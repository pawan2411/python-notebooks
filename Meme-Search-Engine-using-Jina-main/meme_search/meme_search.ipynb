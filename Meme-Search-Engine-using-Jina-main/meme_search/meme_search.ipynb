{
  "cells": [
    {
      "cell_type": "markdown",
      "metadata": {
        "id": "d-6qZXne-aDr"
      },
      "source": [
        "# Jina Meme Search Workshop\n",
        "\n",
        "![](http://examples.jina.ai/images/meme_search.gif)\n",
        "\n",
        "In this workshop we're going to build a meme search engine using [Jina](https://github.com/jina-ai/jina/). It will search a dataset of memes and return URLs to the images as well as metadata.\n",
        "\n",
        "For this workshop we'll just focus on searching **text**. For a more complete repo (including text/image search and frontend) you can check [this link](https://github.com/alexcg1/jina-meme-search).\n",
        "\n",
        "You can play with a live example [here](https://examples.jina.ai)."
      ]
    },
    {
      "cell_type": "markdown",
      "metadata": {
        "id": "pDzmJxZFshfw"
      },
      "source": [
        "# Prerequisites\n",
        "\n",
        "- Check out [Jina's repo](https://github.com/jina-ai/jina/) to understand what Jina does\n",
        "- Watch [Neural search using cute fuzzy animals](https://www.youtube.com/watch?v=3FyddFAFNPQ) to understand how neural search works\n",
        "- Watch [Jina basics in under two minutes](https://www.youtube.com/watch?v=mnnC37ewQI8) to learn the fundamental components of Jina"
      ]
    },
    {
      "cell_type": "markdown",
      "metadata": {
        "id": "EiT4k6Rkshfx"
      },
      "source": [
        "# Terminology\n",
        "\n",
        "Let's go through the words we'll be using in this workshop.\n",
        "\n",
        "In our example, we'll search through all the <code>text</code> (which comes from a JSON file) and then display the image <code>uri</code> of each match.\n",
        "\n",
        "<table>\n",
        "    <tr>\n",
        "        <td>\n",
        "            <img src=\"https://raw.githubusercontent.com/jina-ai/workshops/main/memes/koala.png\" width=300 align=\"left\">\n",
        "        </td>\n",
        "        <td>\n",
        "            <table>\n",
        "                <tr>\n",
        "                    <td>Template</td>\n",
        "                    <td>Surprised Koala</td>\n",
        "                </tr>\n",
        "                <tr>\n",
        "                    <td>Caption</td>\n",
        "                    <td>This is poisonous. What</td>\n",
        "                </tr>\n",
        "                <tr>\n",
        "                    <td><code>uri</code></td>\n",
        "                    <td>https//i.imgflip.com/foo_bar.jpg</td>\n",
        "                </tr>\n",
        "                <tr>\n",
        "                    <td><code>text</code></td>\n",
        "                    <td>Surprised Koala | This is poisonous. What</td>\n",
        "                </tr>\n",
        "            </table>\n",
        "        </td>\n",
        "    </tr>\n",
        "</table>"
      ]
    },
    {
      "cell_type": "markdown",
      "metadata": {
        "id": "CAAvuMh6shfy"
      },
      "source": [
        "# Set up basics"
      ]
    },
    {
      "cell_type": "markdown",
      "metadata": {
        "id": "zOhModQNshfy"
      },
      "source": [
        "## Housekeeping"
      ]
    },
    {
      "cell_type": "markdown",
      "metadata": {
        "id": "tbT-0mWhshfz"
      },
      "source": [
        "### Clean up from last time"
      ]
    },
    {
      "cell_type": "code",
      "execution_count": null,
      "metadata": {
        "id": "OzkzXGuFshf0"
      },
      "outputs": [],
      "source": [
        "!cd /\n",
        "!rm -rf workspace images sample_data"
      ]
    },
    {
      "cell_type": "markdown",
      "metadata": {
        "id": "xmqEYQxyshf2"
      },
      "source": [
        "### Set basic options"
      ]
    },
    {
      "cell_type": "code",
      "execution_count": null,
      "metadata": {
        "id": "xoXePcFSshf2"
      },
      "outputs": [],
      "source": [
        "# Enable Jupyter widgets so we can see images\n",
        "!jupyter nbextension enable --py widgetsnbextension\n",
        "\n",
        "# Disable warnings\n",
        "import warnings\n",
        "warnings.filterwarnings('ignore')"
      ]
    },
    {
      "cell_type": "markdown",
      "metadata": {
        "id": "G_aB6ubVshf5"
      },
      "source": [
        "## Set maximum images to index\n",
        "\n",
        "Since this is just a workshop and not a real-world application we'll just search through 50 memes. This will save us time in processing."
      ]
    },
    {
      "cell_type": "code",
      "execution_count": null,
      "metadata": {
        "id": "KVsYCUwkshf5"
      },
      "outputs": [],
      "source": [
        "max_docs = 50"
      ]
    },
    {
      "cell_type": "markdown",
      "metadata": {
        "id": "hjDI5WMT-uEb"
      },
      "source": [
        "## Install Prerequisites"
      ]
    },
    {
      "cell_type": "code",
      "execution_count": null,
      "metadata": {
        "id": "JyvR2vJC37nR"
      },
      "outputs": [],
      "source": [
        "!pip install jina==2.6.4\n",
        "!pip install ipywidgets==7.6.5 # Get nice widgets in the notebook"
      ]
    },
    {
      "cell_type": "markdown",
      "metadata": {
        "id": "f827Mkip-wxl"
      },
      "source": [
        "# Process data\n",
        "\n",
        "We use an open-source dataset from imgflip, originally downloaded from [Kaggle](https://www.kaggle.com/abhishtagatya/imgflipscraped-memes-caption-dataset).\n",
        "\n",
        "## Why this dataset?\n",
        "\n",
        "We chose this dataset because\n",
        "\n",
        "- It has rich metadata (caption, template name)\n",
        "- It has recognizable memes (many datasets were just random pics with overlaid Impact font)\n",
        "- It doesn't *seem* to have too many racist/sexist/\\*phobic memes 🤞\n",
        "\n",
        "## Why does this dataset kinda suck?\n",
        "\n",
        "It only contains so many memes, and new memes come out all the time. So it won't have the latest, dankest stuff."
      ]
    },
    {
      "cell_type": "markdown",
      "metadata": {
        "id": "e6_5uzi4shf8"
      },
      "source": [
        "## Download data"
      ]
    },
    {
      "cell_type": "code",
      "execution_count": null,
      "metadata": {
        "id": "Gz6sKxwm3jw-"
      },
      "outputs": [],
      "source": [
        "!mkdir -p data\n",
        "!wget -O data/memes.json -nc https://jina-examples-datasets.s3.amazonaws.com/memes/memes.json -q"
      ]
    },
    {
      "cell_type": "markdown",
      "metadata": {
        "id": "14lerh7__Mlb"
      },
      "source": [
        "## Load data\n",
        "\n",
        "I've written a function to help load the data from the JSON file we downloaded earlier.\n",
        "\n",
        "In this function we:\n",
        "\n",
        "- Create a `DocumentArray` to hold `Documents` (using [docarray package](https://docarray.jina.ai))\n",
        "- Optionally shuffle the memes\n",
        "- Create a `Document` for each meme\n",
        "- Set `Document.text` to the template name (e.g. `\"Surprised Koala\"`) + meme caption (e.g. `\"This is poisonous. What\"`)\n",
        "- Populate some `tags` for the `Document` (e.g. absolute URL for image)"
      ]
    },
    {
      "cell_type": "code",
      "execution_count": null,
      "metadata": {
        "id": "BiyIopC7CfqD"
      },
      "outputs": [],
      "source": [
        "from docarray import Document, DocumentArray"
      ]
    },
    {
      "cell_type": "code",
      "execution_count": null,
      "metadata": {
        "id": "Lhx-gD5b30JJ"
      },
      "outputs": [],
      "source": [
        "import json\n",
        "def prep_docs(input_file, num_docs=None, shuffle=True):\n",
        "    docs = DocumentArray()\n",
        "    memes = []\n",
        "    print(f\"Processing {input_file}\")\n",
        "    with open(input_file, \"r\") as file:\n",
        "        raw_json = json.loads(file.read())\n",
        "\n",
        "    for template in raw_json:\n",
        "        for meme in template[\"generated_memes\"]:\n",
        "            meme[\"template\"] = template[\"name\"]\n",
        "        memes.extend(template[\"generated_memes\"])\n",
        "\n",
        "    if shuffle:\n",
        "        import random\n",
        "        random_seed = 1337\n",
        "\n",
        "        random.seed(random_seed)\n",
        "        random.shuffle(memes)\n",
        "\n",
        "    for meme in memes[:num_docs]:\n",
        "        doctext = f\"{meme['template']} - {meme['caption_text']}\"\n",
        "        doc = Document(text=doctext)\n",
        "        doc.tags = meme\n",
        "        doc.tags[\"uri_absolute\"] = \"http:\" + doc.tags[\"image_url\"]\n",
        "        docs.extend([doc])\n",
        "\n",
        "    return docs"
      ]
    },
    {
      "cell_type": "code",
      "execution_count": null,
      "metadata": {
        "id": "rcg_sQKZ5EyA"
      },
      "outputs": [],
      "source": [
        "docs = prep_docs(\n",
        "    input_file=\"data/memes.json\", \n",
        "    num_docs=max_docs, \n",
        "    shuffle=False\n",
        ")"
      ]
    },
    {
      "cell_type": "code",
      "execution_count": null,
      "metadata": {
        "id": "d1XuvBn5shf_"
      },
      "outputs": [],
      "source": [
        "!wget -nc https://raw.githubusercontent.com/jina-ai/workshops/main/memes/helper.py\n",
        "from helper import show_images"
      ]
    },
    {
      "cell_type": "code",
      "execution_count": null,
      "metadata": {
        "id": "JmoQaJqSshgA"
      },
      "outputs": [],
      "source": [
        "show_images(docs)"
      ]
    },
    {
      "cell_type": "markdown",
      "metadata": {
        "id": "Ef5AI-PbshgA"
      },
      "source": [
        "### What does a Document look like?\n",
        "\n",
        "Let's take a look at a Document to get an idea of what's going on"
      ]
    },
    {
      "cell_type": "code",
      "execution_count": null,
      "metadata": {
        "id": "tDBDrCershgA"
      },
      "outputs": [],
      "source": [
        "print(docs[0])"
      ]
    },
    {
      "cell_type": "markdown",
      "metadata": {
        "id": "pEnGsgyYshgB"
      },
      "source": [
        "We can see several fields. Let's look at each of them:"
      ]
    },
    {
      "cell_type": "code",
      "execution_count": null,
      "metadata": {
        "id": "LY0Ha0bdshgB"
      },
      "outputs": [],
      "source": [
        "print(docs[0].id)                  # Unique ID for index\n",
        "print(docs[0].text)                # Content we're searching through\n",
        "print(docs[0].mime_type)           # MIME type of that content\n",
        "\n",
        "for tag in docs[0].tags.items():   # Metadata\n",
        "    print(tag)"
      ]
    },
    {
      "cell_type": "markdown",
      "metadata": {
        "id": "zaTD9ssjA6a8"
      },
      "source": [
        "### Why shuffle?\n",
        "\n",
        "The memes are arranged alphabetically by template. So if we don't shuffle we're going to get very similar memes. This makes it more difficult to search for something interesting."
      ]
    },
    {
      "cell_type": "markdown",
      "metadata": {
        "id": "4CFc1OvuBGyQ"
      },
      "source": [
        "If we shuffle we get a more interesting mix:"
      ]
    },
    {
      "cell_type": "code",
      "execution_count": null,
      "metadata": {
        "id": "Pwal0Nwh4aOq",
        "tags": []
      },
      "outputs": [],
      "source": [
        "docs = prep_docs(\n",
        "    input_file=\"data/memes.json\", \n",
        "    num_docs=max_docs, \n",
        "    shuffle=True\n",
        ")"
      ]
    },
    {
      "cell_type": "code",
      "execution_count": null,
      "metadata": {
        "id": "GSKhAiD2shgC"
      },
      "outputs": [],
      "source": [
        "show_images(docs)"
      ]
    },
    {
      "cell_type": "markdown",
      "metadata": {
        "id": "RpZ5oiU_shgC"
      },
      "source": [
        "# Index and search data with Flow"
      ]
    },
    {
      "cell_type": "markdown",
      "metadata": {
        "id": "wKuRVFJzBayO"
      },
      "source": [
        "## Set up Flow\n",
        "\n",
        "Before we index or search, we need to create our Flow. Only then can we open it as a context manager and do stuff with it."
      ]
    },
    {
      "cell_type": "code",
      "execution_count": null,
      "metadata": {
        "id": "ae9vrzNICVbs"
      },
      "outputs": [],
      "source": [
        "from jina import Flow"
      ]
    },
    {
      "cell_type": "code",
      "execution_count": null,
      "metadata": {
        "id": "2mxPSbjp6KwW"
      },
      "outputs": [],
      "source": [
        "flow = (\n",
        "    Flow()\n",
        "    .add(\n",
        "        name=\"meme_text_encoder\",\n",
        "        uses=\"jinahub://SpacyTextEncoder/v0.3\",                 # Using Executors from Jina Hub means we don't need to write our own!\n",
        "        uses_with={\"model_name\": \"en_core_web_md\"},\n",
        "        install_requirements=True\n",
        "    )\n",
        "    .add(\n",
        "        name=\"meme_text_indexer\",\n",
        "        uses=\"jinahub://SimpleIndexer/v0.11\",\n",
        "        install_requirements=True\n",
        "    )\n",
        ")"
      ]
    },
    {
      "cell_type": "markdown",
      "metadata": {
        "id": "t-7aUULtBdSA"
      },
      "source": [
        "## Index data with Flow\n",
        "\n",
        "We use our Flow to build an index of where all the meme text embeddings lie on an n-dimensional graph"
      ]
    },
    {
      "cell_type": "markdown",
      "metadata": {
        "id": "IxN5K_l0shgE"
      },
      "source": [
        "**Note:** If the notebook crashes here, restart (don't factory-reset) it and run all cells again. This seems to be a bug in Google Colab."
      ]
    },
    {
      "cell_type": "code",
      "execution_count": null,
      "metadata": {
        "id": "rpCo9it_6kLm",
        "tags": []
      },
      "outputs": [],
      "source": [
        "with flow:\n",
        "  indexed_docs = flow.index(\n",
        "      inputs=docs,\n",
        "      request_size=64,\n",
        "      show_progress=True,\n",
        "      return_results=True\n",
        "  )\n",
        "print(\"DONE!\")"
      ]
    },
    {
      "cell_type": "markdown",
      "metadata": {
        "id": "gjYEEIh_shgE"
      },
      "source": [
        "## What did we just do?\n",
        "\n",
        "Indexing our Documents:\n",
        "\n",
        "- Generated *vector embeddings* for each Document, generated by a neural network. These provide a representation of the meaning of each piece of text, instead of it just being a string of characters\n",
        "- Stored the embeddings and metadata of each Document in an on-disk index (`./workspace`) for fast lookup later\n",
        "\n",
        "Let's look a Document after it's been through the indexing Flow. We can see its vector embedding stored as a Numpy ndarray in its `.embedding` attribute:"
      ]
    },
    {
      "cell_type": "code",
      "execution_count": null,
      "metadata": {
        "id": "ZxT7lffVshgF"
      },
      "outputs": [],
      "source": [
        "print(indexed_docs[0].data.docs[0].embedding) # We dig deep because there's a lot of additional metadata we don't care about right now"
      ]
    },
    {
      "cell_type": "markdown",
      "metadata": {
        "id": "06Ptw8_kBgxc"
      },
      "source": [
        "## Search data with Flow"
      ]
    },
    {
      "cell_type": "markdown",
      "metadata": {
        "id": "Hu605YpzshgF"
      },
      "source": [
        "### Create query Document\n",
        "\n",
        "A Document is the fundamental thing that Jina works with. So anything we pass or out needs to be a Document"
      ]
    },
    {
      "cell_type": "code",
      "execution_count": 3,
      "metadata": {
        "id": "jtcvp5bi9Nbt",
        "outputId": "455745fa-06ca-4501-e3f4-50fb94e6228f",
        "colab": {
          "base_uri": "https://localhost:8080/",
          "height": 182
        }
      },
      "outputs": [
        {
          "output_type": "error",
          "ename": "NameError",
          "evalue": "ignored",
          "traceback": [
            "\u001b[0;31m---------------------------------------------------------------------------\u001b[0m",
            "\u001b[0;31mNameError\u001b[0m                                 Traceback (most recent call last)",
            "\u001b[0;32m<ipython-input-3-c763793934f6>\u001b[0m in \u001b[0;36m<module>\u001b[0;34m()\u001b[0m\n\u001b[1;32m      1\u001b[0m \u001b[0msearch_term\u001b[0m \u001b[0;34m=\u001b[0m \u001b[0;34m\"parent\"\u001b[0m\u001b[0;34m\u001b[0m\u001b[0;34m\u001b[0m\u001b[0m\n\u001b[0;32m----> 2\u001b[0;31m \u001b[0mquery_doc\u001b[0m \u001b[0;34m=\u001b[0m \u001b[0mDocument\u001b[0m\u001b[0;34m(\u001b[0m\u001b[0mtext\u001b[0m\u001b[0;34m=\u001b[0m\u001b[0msearch_term\u001b[0m\u001b[0;34m)\u001b[0m\u001b[0;34m\u001b[0m\u001b[0;34m\u001b[0m\u001b[0m\n\u001b[0m",
            "\u001b[0;31mNameError\u001b[0m: name 'Document' is not defined"
          ]
        }
      ],
      "source": [
        "search_term = \"parent\"\n",
        "query_doc = Document(text=search_term)"
      ]
    },
    {
      "cell_type": "markdown",
      "metadata": {
        "id": "CXAQ_bMHshgG"
      },
      "source": [
        "### Send query Document to Flow\n",
        "\n",
        "This Flow will:\n",
        "\n",
        "- Generate a vector embedding for our query Document based on its text\n",
        "- Compare that embedding with the 50 embeddings (one for each meme) we stored in our index earlier\n",
        "- Return the closest matches based on Document (i.e. text) similarity"
      ]
    },
    {
      "cell_type": "code",
      "execution_count": null,
      "metadata": {
        "id": "MB9RxYsR8saM"
      },
      "outputs": [],
      "source": [
        "with flow:\n",
        "  response = flow.search(inputs=query_doc, return_results=True)\n",
        "print(\"DONE!\")"
      ]
    },
    {
      "cell_type": "markdown",
      "metadata": {
        "id": "jkHXdVokshgG"
      },
      "source": [
        "### Extract matches\n",
        "\n",
        "A Jina response contains a lot of extra data. We just want the DocumentArray with matching Documents"
      ]
    },
    {
      "cell_type": "code",
      "execution_count": null,
      "metadata": {
        "id": "lE-fipho9eTj"
      },
      "outputs": [],
      "source": [
        "matches = response[0].docs[0].matches"
      ]
    },
    {
      "cell_type": "code",
      "execution_count": null,
      "metadata": {
        "id": "UjSTaHn9shgJ"
      },
      "outputs": [],
      "source": [
        "show_images(matches)"
      ]
    },
    {
      "cell_type": "markdown",
      "metadata": {
        "id": "twHoDflQBwju"
      },
      "source": [
        "## Using this IRL\n",
        "\n",
        "How can we take this out of a notebook and build a real-world application with it?"
      ]
    },
    {
      "cell_type": "markdown",
      "metadata": {
        "id": "8BMGGJCZYBQr"
      },
      "source": [
        "### Not use a notebook\n",
        "\n",
        "Notebooks are great for demo's or scientific research. Not so great for real-world applications.\n",
        "\n",
        "### Use a better indexer\n",
        "\n",
        "Jina's **[PQLiteIndexer](https://hub.jina.ai/executor/pn1qofsj)** offers powerful features like pre-filtering based on metadata. In our notebook we just use [SimpleIndexer](https://hub.jina.ai/executor/zb38xlt4) which is nice for demonstrations but lacks PQLite's power.\n",
        "\n",
        "### Use a RESTful API\n",
        "\n",
        "#### In notebook: gRPC\n",
        "\n",
        "```python\n",
        "with flow:\n",
        "    flow.search(Document(text=\"foo\"))\n",
        "```\n",
        "\n",
        "#### In Python: RESTful or gRPC\n",
        "\n",
        "```python\n",
        "with flow:\n",
        "    flow.protocol = \"http\"\n",
        "    flow.port_expose = 12345\n",
        "    flow.block()\n",
        "```\n",
        "\n",
        "### Use Dockerized Executors...\n",
        "\n",
        "This means having to install fewer requirements locally.\n",
        "\n",
        "\n",
        "#### In notebook: `jinahub://foo`\n",
        "\n",
        "```python\n",
        "flow = (\n",
        "    Flow()\n",
        "    .add(...)\n",
        "    .add(\n",
        "        uses=\"jinahub://SimpleIndexer\",\n",
        "    )\n",
        ")\n",
        "```\n",
        "\n",
        "#### In Python: `jinahub+docker://foo`\n",
        "\n",
        "```python\n",
        "flow = (\n",
        "    Flow()\n",
        "    .add(...)\n",
        "    .add(\n",
        "        uses=\"jinahub+docker://SimpleIndexer\",\n",
        "    )\n",
        ")\n",
        "```\n",
        "\n",
        "### ...or wrap everything in Docker\n",
        "\n",
        "See an example [docker-compose.yml](https://github.com/alexcg1/jina-meme-search/blob/main/docker-compose.yml)"
      ]
    }
  ],
  "metadata": {
    "accelerator": "GPU",
    "colab": {
      "collapsed_sections": [],
      "name": "Meme search with text",
      "provenance": []
    },
    "kernelspec": {
      "display_name": "Python 3",
      "language": "python",
      "name": "python3"
    },
    "language_info": {
      "codemirror_mode": {
        "name": "ipython",
        "version": 3
      },
      "file_extension": ".py",
      "mimetype": "text/x-python",
      "name": "python",
      "nbconvert_exporter": "python",
      "pygments_lexer": "ipython3",
      "version": "3.7.12"
    },
    "toc-showmarkdowntxt": false
  },
  "nbformat": 4,
  "nbformat_minor": 0
}